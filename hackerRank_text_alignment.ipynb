{
  "nbformat": 4,
  "nbformat_minor": 0,
  "metadata": {
    "colab": {
      "name": "hackerRank text alignment.ipynb",
      "provenance": [],
      "authorship_tag": "ABX9TyMJEox84c4Q+mjTULUL9JKp",
      "include_colab_link": true
    },
    "kernelspec": {
      "name": "python3",
      "display_name": "Python 3"
    },
    "language_info": {
      "name": "python"
    }
  },
  "cells": [
    {
      "cell_type": "markdown",
      "metadata": {
        "id": "view-in-github",
        "colab_type": "text"
      },
      "source": [
        "<a href=\"https://colab.research.google.com/github/Khaled-Mohammed-Abdelgaber/HackerRank/blob/main/hackerRank_text_alignment.ipynb\" target=\"_parent\"><img src=\"https://colab.research.google.com/assets/colab-badge.svg\" alt=\"Open In Colab\"/></a>"
      ]
    },
    {
      "cell_type": "code",
      "source": [
        "#Replace all ______ with rjust, ljust or center. \n",
        "\n",
        "thickness = int(input()) #This must be an odd number\n",
        "c = 'H'\n",
        "\n",
        "#Top Cone\n",
        "for i in range(thickness):\n",
        "    print((c*i).rjust(thickness-1)+c+(c*i).ljust(thickness-1))\n",
        "\n",
        "#Top Pillars\n",
        "for i in range(thickness+1):\n",
        "    print((c*thickness).center(thickness*2)+(c*thickness).center(thickness*6))\n",
        "\n",
        "#Middle Belt\n",
        "for i in range((thickness+1)//2):\n",
        "    print((c*thickness*5).center(thickness*6))    \n",
        "\n",
        "#Bottom Pillars\n",
        "for i in range(thickness+1):\n",
        "    print((c*thickness).center(thickness*2)+(c*thickness).center(thickness*6))    \n",
        "\n",
        "#Bottom Cone\n",
        "for i in range(thickness):\n",
        "    print(((c*(thickness-i-1)).rjust(thickness)+c+(c*(thickness-i-1)).ljust(thickness)).rjust(thickness*6))"
      ],
      "metadata": {
        "colab": {
          "base_uri": "https://localhost:8080/"
        },
        "id": "X482LxJzWfux",
        "outputId": "955897f5-dd0b-49be-df2e-f975a083f071"
      },
      "execution_count": 41,
      "outputs": [
        {
          "output_type": "stream",
          "name": "stdout",
          "text": [
            "5\n",
            "    H    \n",
            "   HHH   \n",
            "  HHHHH  \n",
            " HHHHHHH \n",
            "HHHHHHHHH\n",
            "  HHHHH               HHHHH             \n",
            "  HHHHH               HHHHH             \n",
            "  HHHHH               HHHHH             \n",
            "  HHHHH               HHHHH             \n",
            "  HHHHH               HHHHH             \n",
            "  HHHHH               HHHHH             \n",
            "  HHHHHHHHHHHHHHHHHHHHHHHHH   \n",
            "  HHHHHHHHHHHHHHHHHHHHHHHHH   \n",
            "  HHHHHHHHHHHHHHHHHHHHHHHHH   \n",
            "  HHHHH               HHHHH             \n",
            "  HHHHH               HHHHH             \n",
            "  HHHHH               HHHHH             \n",
            "  HHHHH               HHHHH             \n",
            "  HHHHH               HHHHH             \n",
            "  HHHHH               HHHHH             \n",
            "                    HHHHHHHHH \n",
            "                     HHHHHHH  \n",
            "                      HHHHH   \n",
            "                       HHH    \n",
            "                        H     \n"
          ]
        }
      ]
    },
    {
      "cell_type": "code",
      "source": [
        "# Enter your code here. Read input from STDIN. Print output to STDOUT\n",
        "def dotORbove(line,n):\n",
        "  start = ((n - 3) / 2) - 6*(line-1)/2\n",
        "  i = 0\n",
        "  while i < n:\n",
        "    if(i == start ):\n",
        "      print(\".|.\"*int((line*2-1)),end =\"\")\n",
        "      i += int((line*2-1) * 3)\n",
        "    else:\n",
        "      print(\"-\",end = \"\")\n",
        "      i +=1\n",
        "def welcom(m,n):\n",
        "  i = 0\n",
        "  while i <= n:\n",
        "    if(i == (n+1)/2 - 4):\n",
        "      print(\"WELCOME\",end=\"\")\n",
        "      i += 7\n",
        "    else:\n",
        "      print(\"-\",end=\"\")\n",
        "    i+=1\n",
        "def mat(m,n):\n",
        "  mid = (m + 1)/2\n",
        "  for i in range(1,m+1):\n",
        "    if(i == mid):\n",
        "      welcom(m,n)\n",
        "      print(\"\")\n",
        "    elif i < mid:\n",
        "      dotORbove(i,n)\n",
        "      print(\"\")\n",
        "    elif i> mid:\n",
        "      dotORbove(i-2*(i-mid),n)\n",
        "      print(\"\")\n",
        "    \n",
        "    "
      ],
      "metadata": {
        "id": "pNvlX_3l9O3t"
      },
      "execution_count": 42,
      "outputs": []
    },
    {
      "cell_type": "code",
      "source": [
        "mat(11,33)"
      ],
      "metadata": {
        "colab": {
          "base_uri": "https://localhost:8080/"
        },
        "id": "i-OvJMGgAQcF",
        "outputId": "f12b90a2-1928-47b8-b84a-5de87ccd5569"
      },
      "execution_count": 43,
      "outputs": [
        {
          "output_type": "stream",
          "name": "stdout",
          "text": [
            "---------------.|.---------------\n",
            "------------.|..|..|.------------\n",
            "---------.|..|..|..|..|.---------\n",
            "------.|..|..|..|..|..|..|.------\n",
            "---.|..|..|..|..|..|..|..|..|.---\n",
            "-------------WELCOME-------------\n",
            "---.|..|..|..|..|..|..|..|..|.---\n",
            "------.|..|..|..|..|..|..|.------\n",
            "---------.|..|..|..|..|.---------\n",
            "------------.|..|..|.------------\n",
            "---------------.|.---------------\n"
          ]
        }
      ]
    },
    {
      "cell_type": "code",
      "source": [
        ""
      ],
      "metadata": {
        "id": "7xTpb1TODh5u"
      },
      "execution_count": null,
      "outputs": []
    }
  ]
}